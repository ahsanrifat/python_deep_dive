{
 "cells": [
  {
   "cell_type": "code",
   "execution_count": 13,
   "metadata": {},
   "outputs": [],
   "source": [
    "def outer_func(msz):\n",
    "    def inner():\n",
    "        print(msz)\n",
    "    # returns a function [to be executed upon call] \n",
    "    # return inner() would execute the function immediately\n",
    "    return inner"
   ]
  },
  {
   "cell_type": "code",
   "execution_count": 14,
   "metadata": {},
   "outputs": [
    {
     "name": "stdout",
     "output_type": "stream",
     "text": [
      "Utra\n"
     ]
    }
   ],
   "source": [
    "outer_func(\"Utra\")()"
   ]
  },
  {
   "cell_type": "code",
   "execution_count": 52,
   "metadata": {},
   "outputs": [],
   "source": [
    "def decorators(f,msz):\n",
    "    def wrapper_func(*args):\n",
    "        print(\"Before Executing passed function\",args)\n",
    "        try:\n",
    "            f(args)\n",
    "        except Exception as e:\n",
    "            print(\"Caugth Exception->\",str(e))\n",
    "            raise e\n",
    "    return wrapper_func"
   ]
  },
  {
   "cell_type": "code",
   "execution_count": 54,
   "metadata": {},
   "outputs": [
    {
     "ename": "TypeError",
     "evalue": "'function' object is not subscriptable",
     "output_type": "error",
     "traceback": [
      "\u001b[0;31m---------------------------------------------------------------------------\u001b[0m",
      "\u001b[0;31mTypeError\u001b[0m                                 Traceback (most recent call last)",
      "Input \u001b[0;32mIn [54]\u001b[0m, in \u001b[0;36m<module>\u001b[0;34m\u001b[0m\n\u001b[1;32m      1\u001b[0m \u001b[39m# @decorators means m=decorators(m)\u001b[39;00m\n\u001b[0;32m----> 2\u001b[0m \u001b[39m@decorators\u001b[39m[\u001b[39m\"\u001b[39;49m\u001b[39mdetails\u001b[39;49m\u001b[39m\"\u001b[39;49m]\n\u001b[1;32m      3\u001b[0m \u001b[39mdef\u001b[39;00m \u001b[39mm\u001b[39m(d):\n\u001b[1;32m      4\u001b[0m     \u001b[39mprint\u001b[39m(\u001b[39m\"\u001b[39m\u001b[39mMain Function\u001b[39m\u001b[39m\"\u001b[39m,\u001b[39m3\u001b[39m\u001b[39m/\u001b[39m\u001b[39m0\u001b[39m)\n\u001b[1;32m      6\u001b[0m m(\u001b[39m1\u001b[39m)\n",
      "\u001b[0;31mTypeError\u001b[0m: 'function' object is not subscriptable"
     ]
    }
   ],
   "source": [
    "# @decorators means m=decorators(m)\n",
    "@decorators(\"details\")\n",
    "def m(d):\n",
    "    print(\"Main Function\",3/0)\n",
    "    \n",
    "m(1) "
   ]
  },
  {
   "cell_type": "code",
   "execution_count": 57,
   "metadata": {},
   "outputs": [
    {
     "name": "stdout",
     "output_type": "stream",
     "text": [
      "Before Executing class decorator\n",
      "Main Function\n"
     ]
    }
   ],
   "source": [
    "# class based decorator\n",
    "class class_decorator:\n",
    "    def __init__(self,main_func):\n",
    "        self.func=main_func\n",
    "    def __call__(self,*args,**kwargs):\n",
    "        print(\"Before Executing class decorator\")\n",
    "        self.func(*args,**kwargs)\n",
    "@class_decorator\n",
    "def m(d):\n",
    "    print(\"Main Function\")\n",
    "m(2)"
   ]
  }
 ],
 "metadata": {
  "interpreter": {
   "hash": "2ec3ecaedf08f37d2bbc7f31ec7993950d4a5fc39376d9787757c4cca7d33fe4"
  },
  "kernelspec": {
   "display_name": "Python 3.9.7 ('base')",
   "language": "python",
   "name": "python3"
  },
  "language_info": {
   "codemirror_mode": {
    "name": "ipython",
    "version": 3
   },
   "file_extension": ".py",
   "mimetype": "text/x-python",
   "name": "python",
   "nbconvert_exporter": "python",
   "pygments_lexer": "ipython3",
   "version": "3.9.7"
  },
  "orig_nbformat": 4
 },
 "nbformat": 4,
 "nbformat_minor": 2
}
